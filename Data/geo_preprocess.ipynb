{
 "cells": [
  {
   "cell_type": "code",
   "execution_count": 1,
   "metadata": {
    "collapsed": true,
    "ExecuteTime": {
     "start_time": "2024-12-07T16:17:33.482842Z",
     "end_time": "2024-12-07T16:17:34.496220Z"
    }
   },
   "outputs": [],
   "source": [
    "import pandas as pd\n",
    "from sklearn.preprocessing import MinMaxScaler"
   ]
  },
  {
   "cell_type": "code",
   "execution_count": 2,
   "outputs": [],
   "source": [
    "# preprocess countries coordinates dataset\n",
    "df_coordinate = pd.read_csv('geo/coordinates.csv')\n",
    "\n",
    "# df_filtered = df_coordinate[df_coordinate['name'].isin(['Australia', 'Germany', 'Canada', 'United States', 'India', 'United Kingdom'])]\n",
    "# print(df_filtered)\n",
    "df_2021 = pd.read_csv('origin/2021.csv')\n",
    "df_2020 = pd.read_csv('origin/2020.csv')\n",
    "df_2019 = pd.read_csv('origin/2019.csv')\n",
    "df_2018 = pd.read_csv('origin/2018.csv')\n",
    "df_2017 = pd.read_csv('origin/2017.csv')\n",
    "df_2016 = pd.read_csv('origin/2016.csv')\n",
    "\n",
    "scaler = MinMaxScaler()\n",
    "columns_to_normalize = ['Happiness score']\n",
    "\n",
    "def process_yearly_data(df, rename_dict, year):\n",
    "    df = df[list(rename_dict.keys())].rename(columns=rename_dict)\n",
    "    df['Year'] = year\n",
    "    df['Happiness score'] = df['Happiness score'] ** 3\n",
    "    df[columns_to_normalize] = scaler.fit_transform(df[columns_to_normalize])\n",
    "    return df\n",
    "\n",
    "\n",
    "# define the rename dictionaries\n",
    "df_2021 = process_yearly_data(\n",
    "    df_2021,\n",
    "    {\n",
    "        'Country name': 'Country',\n",
    "        'Ladder score': 'Happiness score',\n",
    "        'Logged GDP per capita': 'GDP',\n",
    "        'Perceptions of corruption': 'Corruption',\n",
    "        'Healthy life expectancy': 'Healthy life expectancy'\n",
    "    },\n",
    "    2021\n",
    ")\n",
    "df_2020 = process_yearly_data(\n",
    "    df_2020,\n",
    "    {\n",
    "        'Country name': 'Country',\n",
    "        'Ladder score': 'Happiness score',\n",
    "        'Logged GDP per capita': 'GDP',\n",
    "        'Perceptions of corruption': 'Corruption',\n",
    "        'Healthy life expectancy': 'Healthy life expectancy'\n",
    "    },\n",
    "    2020\n",
    ")\n",
    "df_2019 = process_yearly_data(\n",
    "    df_2019,\n",
    "    {\n",
    "        'Country or region': 'Country',\n",
    "        'Score': 'Happiness score',\n",
    "        'Perceptions of corruption': 'Corruption',\n",
    "        'GDP per capita': 'GDP',\n",
    "        'Healthy life expectancy': 'Healthy life expectancy'\n",
    "    },\n",
    "    2019\n",
    ")\n",
    "df_2018 = process_yearly_data(\n",
    "    df_2018,\n",
    "    {\n",
    "        'Country or region': 'Country',\n",
    "        'Score': 'Happiness score',\n",
    "        'Perceptions of corruption': 'Corruption',\n",
    "        'GDP per capita': 'GDP',\n",
    "        'Healthy life expectancy': 'Healthy life expectancy'\n",
    "    },\n",
    "    2018\n",
    ")\n",
    "df_2017 = process_yearly_data(\n",
    "    df_2017,\n",
    "    {\n",
    "        'Country': 'Country',\n",
    "        'Happiness.Score': 'Happiness score',\n",
    "        'Economy..GDP.per.Capita.': 'GDP',\n",
    "        'Health..Life.Expectancy.': 'Healthy life expectancy',\n",
    "        'Trust..Government.Corruption.': 'Corruption'\n",
    "    },\n",
    "    2017\n",
    ")\n",
    "df_2016 = process_yearly_data(\n",
    "    df_2016,\n",
    "    {\n",
    "        'Country': 'Country',\n",
    "        'Happiness Score': 'Happiness score',\n",
    "        'Economy (GDP per Capita)': 'GDP',\n",
    "        'Health (Life Expectancy)': 'Healthy life expectancy',\n",
    "        'Trust (Government Corruption)': 'Corruption'\n",
    "    },\n",
    "    2016\n",
    ")\n",
    "\n",
    "df_all_years = pd.concat([df_2021, df_2020, df_2019, df_2018, df_2017, df_2016], ignore_index=True)\n",
    "df_all_years['Country'] = df_all_years['Country'].replace({\n",
    "    'Congo (Brazzaville)': 'Congo [Republic]',\n",
    "    'Congo (Kinshasa)': 'Congo [DRC]',\n",
    "    'Myanmar': 'Myanmar [Burma]',\n",
    "    'Macedonia': 'Macedonia [FYROM]',\n",
    "    'Ivory Coast': 'C?te d\\'Ivoire',\n",
    "    'Taiwan Province of China': 'Taiwan',\n",
    "    'Hong Kong S.A.R. of China': 'Hong Kong',\n",
    "    'North Macedonia': 'Macedonia [FYROM]',\n",
    "    'Trinidad & Tobago': 'Trinidad and Tobago'\n",
    "})\n",
    "\n",
    "df_merged = pd.merge(df_all_years, df_coordinate, how='inner', left_on='Country', right_on='name')\n",
    "df_merged = df_merged[\n",
    "    ['Country', 'Happiness score', 'Year', 'latitude', 'longitude', 'GDP', 'Healthy life expectancy', 'Corruption']]\n",
    "df_merged['Happiness score'] = df_merged['Happiness score'].round(2)"
   ],
   "metadata": {
    "collapsed": false,
    "ExecuteTime": {
     "start_time": "2024-12-07T16:17:35.287324Z",
     "end_time": "2024-12-07T16:17:35.397134Z"
    }
   }
  },
  {
   "cell_type": "code",
   "execution_count": 37,
   "outputs": [
    {
     "name": "stdout",
     "output_type": "stream",
     "text": [
      "0          Finland\n",
      "1          Denmark\n",
      "2      Switzerland\n",
      "3          Iceland\n",
      "4      Netherlands\n",
      "          ...     \n",
      "921          Benin\n",
      "922    Afghanistan\n",
      "923           Togo\n",
      "924          Syria\n",
      "925        Burundi\n",
      "Name: Country, Length: 926, dtype: object\n"
     ]
    }
   ],
   "source": [
    "print(df_all_years['Country'])"
   ],
   "metadata": {
    "collapsed": false,
    "ExecuteTime": {
     "start_time": "2024-11-24T22:52:25.972108Z",
     "end_time": "2024-11-24T22:52:25.978108Z"
    }
   }
  },
  {
   "cell_type": "code",
   "execution_count": 3,
   "outputs": [],
   "source": [
    "df_merged.to_csv('processed/happiness_coordinates.csv', index=False)"
   ],
   "metadata": {
    "collapsed": false,
    "ExecuteTime": {
     "start_time": "2024-12-07T16:17:38.379880Z",
     "end_time": "2024-12-07T16:17:38.398971Z"
    }
   }
  }
 ],
 "metadata": {
  "kernelspec": {
   "display_name": "Python 3",
   "language": "python",
   "name": "python3"
  },
  "language_info": {
   "codemirror_mode": {
    "name": "ipython",
    "version": 2
   },
   "file_extension": ".py",
   "mimetype": "text/x-python",
   "name": "python",
   "nbconvert_exporter": "python",
   "pygments_lexer": "ipython2",
   "version": "2.7.6"
  }
 },
 "nbformat": 4,
 "nbformat_minor": 0
}
